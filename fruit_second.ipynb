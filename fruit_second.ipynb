{
 "cells": [
  {
   "cell_type": "code",
   "execution_count": 1,
   "metadata": {},
   "outputs": [
    {
     "name": "stderr",
     "output_type": "stream",
     "text": [
      "Using TensorFlow backend.\n"
     ]
    }
   ],
   "source": [
    "from keras.utils import np_utils\n",
    "from PIL import Image\n",
    "import os,sys\n",
    "from keras.preprocessing.image import ImageDataGenerator, array_to_img, img_to_array, load_img\n",
    "from array import array\n",
    "import numpy as np \n",
    "import matplotlib.pyplot as plot\n",
    "import pandas as pd"
   ]
  },
  {
   "cell_type": "code",
   "execution_count": 2,
   "metadata": {},
   "outputs": [],
   "source": [
    "train2 = pd.read_csv('C1-P1_Train_Dev/train.csv')"
   ]
  },
  {
   "cell_type": "code",
   "execution_count": 3,
   "metadata": {},
   "outputs": [],
   "source": [
    "#train2"
   ]
  },
  {
   "cell_type": "code",
   "execution_count": 4,
   "metadata": {},
   "outputs": [],
   "source": [
    "trainarray2 = train2.values"
   ]
  },
  {
   "cell_type": "code",
   "execution_count": 5,
   "metadata": {},
   "outputs": [],
   "source": [
    "#trainarray2[:]"
   ]
  },
  {
   "cell_type": "code",
   "execution_count": 6,
   "metadata": {},
   "outputs": [],
   "source": [
    "#trainarray2[:,0]"
   ]
  },
  {
   "cell_type": "code",
   "execution_count": 7,
   "metadata": {},
   "outputs": [],
   "source": [
    "#trainarray2[:,1]"
   ]
  },
  {
   "cell_type": "code",
   "execution_count": 8,
   "metadata": {},
   "outputs": [],
   "source": [
    "array_label = trainarray2[:,1]"
   ]
  },
  {
   "cell_type": "code",
   "execution_count": 9,
   "metadata": {},
   "outputs": [
    {
     "data": {
      "text/plain": [
       "array(['C', 'C', 'B', ..., 'A', 'A', 'C'], dtype=object)"
      ]
     },
     "execution_count": 9,
     "metadata": {},
     "output_type": "execute_result"
    }
   ],
   "source": [
    "array_label"
   ]
  },
  {
   "cell_type": "code",
   "execution_count": 10,
   "metadata": {},
   "outputs": [],
   "source": [
    "array_label[array_label == 'A' ] = 0\n",
    "array_label[array_label == 'B' ] = 1\n",
    "array_label[array_label == 'C' ] = 2"
   ]
  },
  {
   "cell_type": "code",
   "execution_count": 11,
   "metadata": {},
   "outputs": [
    {
     "data": {
      "text/plain": [
       "'[2 2 1 ... 0 0 2]'"
      ]
     },
     "execution_count": 11,
     "metadata": {},
     "output_type": "execute_result"
    }
   ],
   "source": [
    "format(array_label)"
   ]
  },
  {
   "cell_type": "code",
   "execution_count": 12,
   "metadata": {},
   "outputs": [
    {
     "data": {
      "text/plain": [
       "array([2, 2, 1, ..., 0, 0, 2], dtype=object)"
      ]
     },
     "execution_count": 12,
     "metadata": {},
     "output_type": "execute_result"
    }
   ],
   "source": [
    "array_label"
   ]
  },
  {
   "cell_type": "code",
   "execution_count": 13,
   "metadata": {},
   "outputs": [],
   "source": [
    "label_list = array_label.tolist()"
   ]
  },
  {
   "cell_type": "code",
   "execution_count": 14,
   "metadata": {},
   "outputs": [],
   "source": [
    "#label_list "
   ]
  },
  {
   "cell_type": "code",
   "execution_count": 15,
   "metadata": {},
   "outputs": [],
   "source": [
    "row,column = 64,64\n",
    "X_train = [] \n",
    "Y_train = []\n",
    "\n",
    "#X_testdata  = []\n",
    "classes =  3"
   ]
  },
  {
   "cell_type": "code",
   "execution_count": 16,
   "metadata": {},
   "outputs": [],
   "source": [
    "pathResizedTrainDataBomei_0 = 'C:/pywork/contest/C1-P1_Train_Dev/resize_train/'\n",
    "listingDog_0 = os.listdir(pathResizedTrainDataBomei_0)"
   ]
  },
  {
   "cell_type": "code",
   "execution_count": 17,
   "metadata": {},
   "outputs": [],
   "source": [
    "for file in listingDog_0 :\n",
    "     if file != '.DS_Store' :\n",
    "        img = Image.open(pathResizedTrainDataBomei_0 + file)\n",
    "        #print(file)\n",
    "        x = img_to_array(img)\n",
    "        #print(x)\n",
    "        X_train.append(x)\n",
    "        #print(X_train)\n",
    "Y_train.append(label_list) # bomei\n",
    "#print(Y_train)"
   ]
  },
  {
   "cell_type": "code",
   "execution_count": null,
   "metadata": {},
   "outputs": [],
   "source": []
  },
  {
   "cell_type": "code",
   "execution_count": 18,
   "metadata": {},
   "outputs": [],
   "source": [
    "X_train = np.array(X_train, dtype=np.float32)"
   ]
  },
  {
   "cell_type": "code",
   "execution_count": 19,
   "metadata": {},
   "outputs": [],
   "source": [
    "#X_train"
   ]
  },
  {
   "cell_type": "code",
   "execution_count": 20,
   "metadata": {},
   "outputs": [],
   "source": [
    "X_train_normalize = X_train / 255.0"
   ]
  },
  {
   "cell_type": "code",
   "execution_count": 21,
   "metadata": {},
   "outputs": [],
   "source": [
    "see = X_train_normalize[0]*255\n",
    "new_im = Image.fromarray(see.astype(np.uint8))\n"
   ]
  },
  {
   "cell_type": "code",
   "execution_count": 22,
   "metadata": {},
   "outputs": [
    {
     "data": {
      "image/png": "[encoded data removed]",
      "text/plain": [
       "<PIL.Image.Image image mode=RGB size=64x64 at 0x1F52389D198>"
      ]
     },
     "execution_count": 22,
     "metadata": {},
     "output_type": "execute_result"
    }
   ],
   "source": [
    "new_im"
   ]
  },
  {
   "cell_type": "code",
   "execution_count": 23,
   "metadata": {},
   "outputs": [],
   "source": [
    "total_input = len(X_train)"
   ]
  },
  {
   "cell_type": "code",
   "execution_count": 24,
   "metadata": {},
   "outputs": [],
   "source": [
    "Y_train = np.array(Y_train)"
   ]
  },
  {
   "cell_type": "code",
   "execution_count": 25,
   "metadata": {},
   "outputs": [],
   "source": [
    "Y_train = Y_train.reshape(total_input, 1)"
   ]
  },
  {
   "cell_type": "code",
   "execution_count": 26,
   "metadata": {},
   "outputs": [
    {
     "data": {
      "text/plain": [
       "array([[2],\n",
       "       [2],\n",
       "       [1],\n",
       "       ...,\n",
       "       [0],\n",
       "       [0],\n",
       "       [2]])"
      ]
     },
     "execution_count": 26,
     "metadata": {},
     "output_type": "execute_result"
    }
   ],
   "source": [
    "Y_train "
   ]
  },
  {
   "cell_type": "code",
   "execution_count": 27,
   "metadata": {},
   "outputs": [],
   "source": [
    "permutation = np.random.permutation(Y_train.shape[0])\n",
    "shuffled_dataset = X_train_normalize[permutation,:,:]\n",
    "shuffled_labels  = Y_train[permutation]"
   ]
  },
  {
   "cell_type": "code",
   "execution_count": 28,
   "metadata": {},
   "outputs": [
    {
     "data": {
      "text/plain": [
       "array([[2],\n",
       "       [0],\n",
       "       [0],\n",
       "       ...,\n",
       "       [0],\n",
       "       [2],\n",
       "       [0]])"
      ]
     },
     "execution_count": 28,
     "metadata": {},
     "output_type": "execute_result"
    }
   ],
   "source": [
    "shuffled_labels"
   ]
  },
  {
   "cell_type": "code",
   "execution_count": 29,
   "metadata": {},
   "outputs": [],
   "source": [
    "shuffled_labels_OneHot = np_utils.to_categorical(shuffled_labels)"
   ]
  },
  {
   "cell_type": "code",
   "execution_count": 30,
   "metadata": {},
   "outputs": [
    {
     "data": {
      "text/plain": [
       "array([[0., 0., 1.],\n",
       "       [1., 0., 0.],\n",
       "       [1., 0., 0.],\n",
       "       [1., 0., 0.],\n",
       "       [0., 1., 0.],\n",
       "       [0., 1., 0.],\n",
       "       [0., 1., 0.],\n",
       "       [1., 0., 0.],\n",
       "       [1., 0., 0.],\n",
       "       [1., 0., 0.]])"
      ]
     },
     "execution_count": 30,
     "metadata": {},
     "output_type": "execute_result"
    }
   ],
   "source": [
    "shuffled_labels_OneHot[:10]"
   ]
  },
  {
   "cell_type": "code",
   "execution_count": 31,
   "metadata": {},
   "outputs": [],
   "source": [
    "from keras.models import Sequential\n",
    "from keras.layers import Dense,Dropout,Activation,Flatten\n",
    "from keras.layers import Conv2D, MaxPooling2D,ZeroPadding2D"
   ]
  },
  {
   "cell_type": "code",
   "execution_count": 32,
   "metadata": {},
   "outputs": [],
   "source": [
    "model = Sequential()"
   ]
  },
  {
   "cell_type": "code",
   "execution_count": 33,
   "metadata": {},
   "outputs": [],
   "source": [
    "model.add(Conv2D(filters=32,kernel_size=(3,3),input_shape=(64,64,3),\n",
    "                 activation='relu',padding='same'))\n",
    "model.add(Dropout(rate=0.3))\n",
    "model.add(Conv2D(filters=32,kernel_size=(3,3),\n",
    "                 activation='relu',padding='same'))\n",
    "model.add(MaxPooling2D(pool_size=(2,2)))"
   ]
  },
  {
   "cell_type": "code",
   "execution_count": 34,
   "metadata": {},
   "outputs": [],
   "source": [
    "model.add(Conv2D(filters=64,kernel_size=(3,3),\n",
    "                 activation='relu',padding='same'))\n",
    "model.add(Dropout(rate=0.3))\n",
    "model.add(Conv2D(filters=64,kernel_size=(3,3),\n",
    "                 activation='relu',padding='same'))\n",
    "model.add(MaxPooling2D(pool_size=(2,2)))"
   ]
  },
  {
   "cell_type": "code",
   "execution_count": 35,
   "metadata": {},
   "outputs": [],
   "source": [
    "model.add(Conv2D(filters=128,kernel_size=(3,3),\n",
    "                 activation='relu',padding='same'))\n",
    "model.add(Dropout(rate=0.3))\n",
    "model.add(Conv2D(filters=128,kernel_size=(3,3),\n",
    "                 activation='relu',padding='same'))\n",
    "model.add(MaxPooling2D(pool_size=(2,2)))"
   ]
  },
  {
   "cell_type": "code",
   "execution_count": 36,
   "metadata": {},
   "outputs": [],
   "source": [
    "model.add(Flatten())\n",
    "model.add(Dropout(rate=0.3))\n",
    "model.add(Dense(2500,activation='relu'))\n",
    "model.add(Dropout(rate=0.3))\n",
    "model.add(Dense(1500,activation='relu'))\n",
    "model.add(Dropout(rate=0.3))"
   ]
  },
  {
   "cell_type": "code",
   "execution_count": 37,
   "metadata": {},
   "outputs": [],
   "source": [
    "model.add(Dense(3,activation='softmax'))"
   ]
  },
  {
   "cell_type": "code",
   "execution_count": 38,
   "metadata": {},
   "outputs": [
    {
     "name": "stdout",
     "output_type": "stream",
     "text": [
      "_________________________________________________________________\n",
      "Layer (type)                 Output Shape              Param #   \n",
      "=================================================================\n",
      "conv2d_1 (Conv2D)            (None, 64, 64, 32)        896       \n",
      "_________________________________________________________________\n",
      "dropout_1 (Dropout)          (None, 64, 64, 32)        0         \n",
      "_________________________________________________________________\n",
      "conv2d_2 (Conv2D)            (None, 64, 64, 32)        9248      \n",
      "_________________________________________________________________\n",
      "max_pooling2d_1 (MaxPooling2 (None, 32, 32, 32)        0         \n",
      "_________________________________________________________________\n",
      "conv2d_3 (Conv2D)            (None, 32, 32, 64)        18496     \n",
      "_________________________________________________________________\n",
      "dropout_2 (Dropout)          (None, 32, 32, 64)        0         \n",
      "_________________________________________________________________\n",
      "conv2d_4 (Conv2D)            (None, 32, 32, 64)        36928     \n",
      "_________________________________________________________________\n",
      "max_pooling2d_2 (MaxPooling2 (None, 16, 16, 64)        0         \n",
      "_________________________________________________________________\n",
      "conv2d_5 (Conv2D)            (None, 16, 16, 128)       73856     \n",
      "_________________________________________________________________\n",
      "dropout_3 (Dropout)          (None, 16, 16, 128)       0         \n",
      "_________________________________________________________________\n",
      "conv2d_6 (Conv2D)            (None, 16, 16, 128)       147584    \n",
      "_________________________________________________________________\n",
      "max_pooling2d_3 (MaxPooling2 (None, 8, 8, 128)         0         \n",
      "_________________________________________________________________\n",
      "flatten_1 (Flatten)          (None, 8192)              0         \n",
      "_________________________________________________________________\n",
      "dropout_4 (Dropout)          (None, 8192)              0         \n",
      "_________________________________________________________________\n",
      "dense_1 (Dense)              (None, 2500)              20482500  \n",
      "_________________________________________________________________\n",
      "dropout_5 (Dropout)          (None, 2500)              0         \n",
      "_________________________________________________________________\n",
      "dense_2 (Dense)              (None, 1500)              3751500   \n",
      "_________________________________________________________________\n",
      "dropout_6 (Dropout)          (None, 1500)              0         \n",
      "_________________________________________________________________\n",
      "dense_3 (Dense)              (None, 3)                 4503      \n",
      "=================================================================\n",
      "Total params: 24,525,511\n",
      "Trainable params: 24,525,511\n",
      "Non-trainable params: 0\n",
      "_________________________________________________________________\n",
      "None\n"
     ]
    }
   ],
   "source": [
    "print(model.summary())"
   ]
  },
  {
   "cell_type": "code",
   "execution_count": 39,
   "metadata": {},
   "outputs": [],
   "source": [
    "model.compile(loss='categorical_crossentropy',\n",
    "             optimizer='adam',metrics=['accuracy'])"
   ]
  },
  {
   "cell_type": "code",
   "execution_count": 40,
   "metadata": {},
   "outputs": [
    {
     "name": "stdout",
     "output_type": "stream",
     "text": [
      "Train on 4480 samples, validate on 1120 samples\n",
      "Epoch 1/25\n",
      " - 79s - loss: 1.1806 - acc: 0.3600 - val_loss: 1.0888 - val_acc: 0.3473\n",
      "Epoch 2/25\n",
      " - 76s - loss: 1.0513 - acc: 0.4469 - val_loss: 1.0131 - val_acc: 0.4884\n",
      "Epoch 3/25\n",
      " - 80s - loss: 0.9653 - acc: 0.5056 - val_loss: 0.9824 - val_acc: 0.5080\n",
      "Epoch 4/25\n",
      " - 80s - loss: 0.9233 - acc: 0.5304 - val_loss: 0.9180 - val_acc: 0.5545\n",
      "Epoch 5/25\n",
      " - 77s - loss: 0.9151 - acc: 0.5458 - val_loss: 0.9209 - val_acc: 0.5741\n",
      "Epoch 6/25\n",
      " - 80s - loss: 0.8895 - acc: 0.5600 - val_loss: 0.9315 - val_acc: 0.5437\n",
      "Epoch 7/25\n",
      " - 81s - loss: 0.8724 - acc: 0.5734 - val_loss: 0.8895 - val_acc: 0.5902\n",
      "Epoch 8/25\n",
      " - 84s - loss: 0.8606 - acc: 0.5853 - val_loss: 0.8968 - val_acc: 0.5911\n",
      "Epoch 9/25\n",
      " - 80s - loss: 0.8531 - acc: 0.5862 - val_loss: 0.8686 - val_acc: 0.6000\n",
      "Epoch 10/25\n",
      " - 86s - loss: 0.8317 - acc: 0.6042 - val_loss: 0.8779 - val_acc: 0.5920\n",
      "Epoch 11/25\n",
      " - 81s - loss: 0.8067 - acc: 0.6277 - val_loss: 0.8613 - val_acc: 0.5857\n",
      "Epoch 12/25\n",
      " - 91s - loss: 0.8082 - acc: 0.6138 - val_loss: 0.8712 - val_acc: 0.5839\n",
      "Epoch 13/25\n",
      " - 85s - loss: 0.7825 - acc: 0.6313 - val_loss: 0.8297 - val_acc: 0.6196\n",
      "Epoch 14/25\n",
      " - 84s - loss: 0.7629 - acc: 0.6580 - val_loss: 0.8410 - val_acc: 0.6250\n",
      "Epoch 15/25\n",
      " - 81s - loss: 0.7564 - acc: 0.6589 - val_loss: 0.8203 - val_acc: 0.6205\n",
      "Epoch 16/25\n",
      " - 79s - loss: 0.7222 - acc: 0.6830 - val_loss: 0.7922 - val_acc: 0.6500\n",
      "Epoch 17/25\n",
      " - 79s - loss: 0.6931 - acc: 0.7000 - val_loss: 0.7936 - val_acc: 0.6482\n",
      "Epoch 18/25\n",
      " - 86s - loss: 0.6881 - acc: 0.7004 - val_loss: 0.7873 - val_acc: 0.6330\n",
      "Epoch 19/25\n",
      " - 85s - loss: 0.6638 - acc: 0.7150 - val_loss: 0.7618 - val_acc: 0.6670\n",
      "Epoch 20/25\n",
      " - 79s - loss: 0.6495 - acc: 0.7261 - val_loss: 0.7532 - val_acc: 0.6580\n",
      "Epoch 21/25\n",
      " - 76s - loss: 0.6207 - acc: 0.7371 - val_loss: 0.7580 - val_acc: 0.6687\n",
      "Epoch 22/25\n",
      " - 79s - loss: 0.5824 - acc: 0.7558 - val_loss: 0.7691 - val_acc: 0.6714\n",
      "Epoch 23/25\n",
      " - 80s - loss: 0.5538 - acc: 0.7634 - val_loss: 0.7688 - val_acc: 0.6563\n",
      "Epoch 24/25\n",
      " - 81s - loss: 0.5300 - acc: 0.7815 - val_loss: 0.8016 - val_acc: 0.6473\n",
      "Epoch 25/25\n",
      " - 82s - loss: 0.5150 - acc: 0.7835 - val_loss: 0.7713 - val_acc: 0.6679\n"
     ]
    }
   ],
   "source": [
    "train_history=model.fit(shuffled_dataset,shuffled_labels_OneHot,\n",
    "                        validation_split=0.2,\n",
    "                        epochs=25,batch_size=150,verbose=2)"
   ]
  },
  {
   "cell_type": "code",
   "execution_count": 41,
   "metadata": {},
   "outputs": [],
   "source": [
    "import matplotlib.pyplot as plot\n",
    "def show_train_history(train_history,train,validation):\n",
    "    plot.plot(train_history.history[train])\n",
    "    plot.plot(train_history.history[validation])\n",
    "    plot.title('Train History')\n",
    "    plot.ylabel(train)\n",
    "    plot.xlabel('Epoch')\n",
    "    plot.legend(['train','validation'],loc='upper left')\n",
    "    plot.show()"
   ]
  },
  {
   "cell_type": "code",
   "execution_count": 42,
   "metadata": {},
   "outputs": [
    {
     "data": {
      "image/png": "[encoded data removed]",
      "text/plain": [
       "<Figure size 432x288 with 1 Axes>"
      ]
     },
     "metadata": {
      "needs_background": "light"
     },
     "output_type": "display_data"
    }
   ],
   "source": [
    "show_train_history(train_history,'acc','val_acc')"
   ]
  },
  {
   "cell_type": "code",
   "execution_count": 43,
   "metadata": {},
   "outputs": [
    {
     "data": {
      "image/png": "[encoded data removed]",
      "text/plain": [
       "<Figure size 432x288 with 1 Axes>"
      ]
     },
     "metadata": {
      "needs_background": "light"
     },
     "output_type": "display_data"
    }
   ],
   "source": [
    "show_train_history(train_history,'loss','val_loss')"
   ]
  },
  {
   "cell_type": "code",
   "execution_count": null,
   "metadata": {},
   "outputs": [],
   "source": []
  },
  {
   "cell_type": "code",
   "execution_count": null,
   "metadata": {},
   "outputs": [],
   "source": []
  }
 ],
 "metadata": {
  "kernelspec": {
   "display_name": "Python 3",
   "language": "python",
   "name": "python3"
  },
  "language_info": {
   "codemirror_mode": {
    "name": "ipython",
    "version": 3
   },
   "file_extension": ".py",
   "mimetype": "text/x-python",
   "name": "python",
   "nbconvert_exporter": "python",
   "pygments_lexer": "ipython3",
   "version": "3.6.9"
  }
 },
 "nbformat": 4,
 "nbformat_minor": 2
}
