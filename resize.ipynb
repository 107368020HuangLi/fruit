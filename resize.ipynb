{
 "cells": [
  {
   "cell_type": "code",
   "execution_count": 1,
   "metadata": {},
   "outputs": [
    {
     "name": "stderr",
     "output_type": "stream",
     "text": [
      "Using TensorFlow backend.\n"
     ]
    }
   ],
   "source": [
    "from PIL import Image\n",
    "import matplotlib.pyplot as plot\n",
    "import os,sys\n",
    "from keras.preprocessing.image import ImageDataGenerator, array_to_img, img_to_array, load_img"
   ]
  },
  {
   "cell_type": "code",
   "execution_count": 2,
   "metadata": {},
   "outputs": [],
   "source": [
    "row,column = 64,64  #图片大小"
   ]
  },
  {
   "cell_type": "code",
   "execution_count": 3,
   "metadata": {},
   "outputs": [],
   "source": [
    "pathTrainDataBomei_0 = 'C:/pywork/contest/C1-P1_Train_Dev/C1-P1_Train/'\n",
    "pathResizedTrainDataBomei_0 = 'C:/pywork/contest/C1-P1_Train_Dev/resize_train/'\n",
    "listingDog_0 = os.listdir(pathTrainDataBomei_0) #图片原地址"
   ]
  },
  {
   "cell_type": "code",
   "execution_count": 4,
   "metadata": {},
   "outputs": [],
   "source": [
    "for file in listingDog_0 :\n",
    "    if file != '.DS_Store' :\n",
    "        img = Image.open(pathTrainDataBomei_0  + file)\n",
    "        resizeImg = img.resize((row,column))\n",
    "        resizeImg .save(pathResizedTrainDataBomei_0 + file)"
   ]
  }
 ],
 "metadata": {
  "kernelspec": {
   "display_name": "Python 3",
   "language": "python",
   "name": "python3"
  },
  "language_info": {
   "codemirror_mode": {
    "name": "ipython",
    "version": 3
   },
   "file_extension": ".py",
   "mimetype": "text/x-python",
   "name": "python",
   "nbconvert_exporter": "python",
   "pygments_lexer": "ipython3",
   "version": "3.6.9"
  }
 },
 "nbformat": 4,
 "nbformat_minor": 2
}
