{
 "cells": [
  {
   "cell_type": "code",
   "execution_count": 1,
   "metadata": {
    "pycharm": {
     "is_executing": true
    }
   },
   "outputs": [],
   "source": [
    "import os\n",
    "import cv2\n",
    "import numpy as np "
   ]
  },
  {
   "cell_type": "code",
   "execution_count": 2,
   "metadata": {
    "pycharm": {
     "is_executing": true
    }
   },
   "outputs": [],
   "source": [
    "orignal_img_dir = 'C1-P1_Train/'\n",
    "resize_dir = 'C1-P1_deback/'\n",
    "orignal_list = os.listdir(orignal_img_dir) #图片原地址"
   ]
  },
  {
   "cell_type": "code",
   "execution_count": 3,
   "metadata": {
    "pycharm": {
     "is_executing": true
    }
   },
   "outputs": [],
   "source": [
    "bgdmodel_hor = np.zeros((1,65), np.float64)\n",
    "fgdmodel_hor = np.zeros((1,65), np.float64)"
   ]
  },
  {
   "cell_type": "code",
   "execution_count": 4,
   "metadata": {
    "pycharm": {
     "is_executing": true
    }
   },
   "outputs": [],
   "source": [
    "bgdmodel_str = np.zeros((1,65), np.float64)\n",
    "fgdmodel_str = np.zeros((1,65), np.float64)"
   ]
  },
  {
   "cell_type": "code",
   "execution_count": null,
   "metadata": {
    "pycharm": {
     "is_executing": true
    }
   },
   "outputs": [],
   "source": [
    "for file in orignal_list :\n",
    "    try:\n",
    "        if file != '.DS_Store' :\n",
    "            #img = Image.open(pathTrainDataBomei_0  + file)\n",
    "            image_rgb = cv2.imread( orignal_img_dir  + file)\n",
    "            #image_rgb = cv2.cvtColor(image_bgr, cv2.COLOR_BGR2RGB) #似乎本來就是RGB\n",
    "           \n",
    "            rectangle_hor = (100, 160, image_rgb.shape[1] - 100, image_rgb.shape[0] - 100 ) #100 , 160 , 1200 , 1000\n",
    "            rectangle_str = (160, 100, image_rgb.shape[1] - 100, image_rgb.shape[0] - 100 ) #160 , 100 , 1100 , 1500\n",
    "            \n",
    "            mask = np.zeros(image_rgb.shape[:2],np.uint8)\n",
    "            \n",
    "            #bgdmodel_hor = np.zeros((1,65), np.float64)\n",
    "            #fgdmodel_hor = np.zeros((1,65), np.float64)\n",
    "           \n",
    "            if( image_rgb.shape[0] > image_rgb.shape[1] ):    \n",
    "                cv2.grabCut(image_rgb, mask , rectangle_hor , bgdmodel_hor , fgdmodel_hor , 5 , cv2.GC_INIT_WITH_RECT)\n",
    "            else:\n",
    "                cv2.grabCut(image_rgb, mask , rectangle_str , bgdmodel_str , fgdmodel_str , 5 , cv2.GC_INIT_WITH_RECT)\n",
    "                \n",
    "            mask2 = np.where((mask==2) | (mask == 0) , 0 , 1).astype('uint8')\n",
    "            \n",
    "            image_rgb_nobg = image_rgb * mask2[:,: , np.newaxis]\n",
    "            \n",
    "            cv2.imwrite( resize_dir + file , image_rgb_nobg)\n",
    "    except:\n",
    "        pass"
   ]
  },
  {
   "cell_type": "code",
   "execution_count": null,
   "metadata": {
    "pycharm": {
     "is_executing": true
    }
   },
   "outputs": [],
   "source": []
  }
 ],
 "metadata": {
  "kernelspec": {
   "display_name": "Python 3",
   "language": "python",
   "name": "python3"
  },
  "language_info": {
   "codemirror_mode": {
    "name": "ipython",
    "version": 3
   },
   "file_extension": ".py",
   "mimetype": "text/x-python",
   "name": "python",
   "nbconvert_exporter": "python",
   "pygments_lexer": "ipython3",
   "version": "3.6.9"
  },
  "pycharm": {
   "stem_cell": {
    "cell_type": "raw",
    "source": [],
    "metadata": {
     "collapsed": false
    }
   }
  }
 },
 "nbformat": 4,
 "nbformat_minor": 4
}