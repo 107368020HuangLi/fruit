{
 "cells": [
  {
   "cell_type": "markdown",
   "metadata": {},
   "source": [
    "# Data preprocess"
   ]
  },
  {
   "cell_type": "code",
   "execution_count": 13,
   "metadata": {
    "scrolled": true
   },
   "outputs": [],
   "source": [
    "from tensorflow.keras.utils import to_categorical\n",
    "from PIL import Image\n",
    "import os,sys\n",
    "from tensorflow.keras.preprocessing.image import ImageDataGenerator, array_to_img, img_to_array, load_img\n",
    "from array import array\n",
    "import numpy as np \n",
    "import matplotlib.pyplot as plot\n",
    "import pandas as pd"
   ]
  },
  {
   "cell_type": "code",
   "execution_count": null,
   "metadata": {},
   "outputs": [],
   "source": [
    "#label dataset process\n",
    "label=pd.read_csv('C1-P1_Train/train2.csv')\n",
    "trainarray=label.values\n",
    "array_label = trainarray[:,1]\n",
    "array_label[array_label == 'A' ] = 0\n",
    "array_label[array_label == 'B' ] = 1\n",
    "array_label[array_label == 'C' ] = 2\n",
    "format(array_label)\n",
    "label_list = array_label.tolist()\n",
    "row,column = 64,64\n",
    "img_train = [] \n",
    "label_train = []\n",
    "\n",
    "classes =  3\n",
    "#img dataset process\n",
    "img_dir = 'C1-P1_Train/resize_train/'\n",
    "img_list = os.listdir(img_dir)\n",
    "for file in img_list :\n",
    "     if file != '.DS_Store':\n",
    "        try:\n",
    "            img = Image.open(img_dir + file)\n",
    "            #print(file)\n",
    "            x = img_to_array(img)\n",
    "            #print(x)\n",
    "            img_train.append(x)\n",
    "\n",
    "            #print(img_train)\n",
    "        except:\n",
    "            pass\n",
    "\n",
    "img_train = np.array(img_train, dtype=np.float32)\n",
    "img_train_normalize = img_train / 255.0\n",
    "see = img_train_normalize[0]*255\n",
    "new_im = Image.fromarray(see.astype(np.uint8))\n",
    "total_input = len(img_train)\n",
    "label_train = np.array(label_list)\n",
    "label_train = label_train.reshape(total_input, 1)\n",
    "permutation = np.random.permutation(label_train.shape[0])\n",
    "#shuffled dataset\n",
    "shuffled_dataset = img_train_normalize[permutation,:,:]\n",
    "shuffled_labels  = label_train[permutation]\n",
    "shuffled_labels_OneHot = to_categorical(shuffled_labels)\n"
   ]
  },
  {
   "cell_type": "markdown",
   "metadata": {},
   "source": [
    "# Model"
   ]
  },
  {
   "cell_type": "code",
   "execution_count": null,
   "metadata": {},
   "outputs": [],
   "source": [
    "from tensorflow.keras.models import Sequential\n",
    "from tensorflow.keras.layers import Dense,Dropout,Activation,Flatten\n",
    "from tensorflow.keras.layers import Conv2D, MaxPooling2D,ZeroPadding2D"
   ]
  }
 ],
 "metadata": {
  "kernelspec": {
   "display_name": "Python 3",
   "language": "python",
   "name": "python3"
  },
  "language_info": {
   "codemirror_mode": {
    "name": "ipython",
    "version": 3
   },
   "file_extension": ".py",
   "mimetype": "text/x-python",
   "name": "python",
   "nbconvert_exporter": "python",
   "pygments_lexer": "ipython3",
   "version": "3.6.9"
  }
 },
 "nbformat": 4,
 "nbformat_minor": 2
}
